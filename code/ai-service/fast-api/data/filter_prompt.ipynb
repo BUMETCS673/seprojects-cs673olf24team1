{
 "cells": [
  {
   "cell_type": "markdown",
   "metadata": {},
   "source": [
    "# Prompt Filter\n",
    "\n",
    "This Python notebook processes a JSON file containing inconsistent data and filters it to retain only valid entries. The script begins by loading the original JSON and checking for entries that contain specific keys: prompt, response, and metadata. It further ensures that the metadata includes timestamp, source, and tags. Duplicates are removed by tracking unique prompts, and only valid entries are kept. The filtered data is then saved to a new JSON file, providing a clean and consistent dataset."
   ]
  },
  {
   "cell_type": "code",
   "execution_count": 1,
   "metadata": {},
   "outputs": [
    {
     "name": "stdout",
     "output_type": "stream",
     "text": [
      "Original JSON has 626 prompts\n"
     ]
    }
   ],
   "source": [
    "import json\n",
    "\n",
    "# 1. Load the inconsistent JSON data\n",
    "with open('promptlib.json', 'r') as f:\n",
    "    data = json.load(f)\n",
    "    print(f\"Original JSON has {len(data['prompts'])} prompts\")\n",
    "\n",
    "# 2. Filter out only datapoint that has (prompt, response, and metadata)\n",
    "def is_valid_entry(entry):\n",
    "    # Check if 'prompt', 'response', and 'metadata' exist\n",
    "    if set(entry.keys()) == {'prompt', 'response', 'metadata'}:\n",
    "        metadata = entry['metadata']\n",
    "        # Check if 'metadata' contains 'timestamp', 'source', and 'tags'\n",
    "        return set(metadata.keys()) == {'timestamp', 'source', 'tags'}\n",
    "    return False\n",
    "\n",
    "# 3. Eemove duplicates and keep only valid entries\n",
    "unique_prompts = set()\n",
    "filtered_data = {'prompts': []}\n",
    "\n",
    "# 4. Apply the filter\n",
    "for entry in data.get('prompts', []):\n",
    "    if is_valid_entry(entry) and entry['prompt'] not in unique_prompts:\n",
    "        filtered_data['prompts'].append(entry)\n",
    "        unique_prompts.add(entry['prompt'])\n",
    "\n",
    "# 5. Save the filtered data to a new JSON file\n",
    "with open('filtered_promptlib.json', 'w') as f:\n",
    "    json.dump(filtered_data, f, indent=2)\n"
   ]
  },
  {
   "cell_type": "code",
   "execution_count": 2,
   "metadata": {},
   "outputs": [
    {
     "name": "stdout",
     "output_type": "stream",
     "text": [
      "Filtered JSON has 601 prompts\n"
     ]
    }
   ],
   "source": [
    "from pathlib import Path\n",
    "import json\n",
    "\n",
    "data = json.loads(Path('filtered_promptlib.json').read_text())\n",
    "print(f\"Filtered JSON has {len(data['prompts'])} prompts\")"
   ]
  }
 ],
 "metadata": {
  "kernelspec": {
   "display_name": "eagles",
   "language": "python",
   "name": "python3"
  },
  "language_info": {
   "codemirror_mode": {
    "name": "ipython",
    "version": 3
   },
   "file_extension": ".py",
   "mimetype": "text/x-python",
   "name": "python",
   "nbconvert_exporter": "python",
   "pygments_lexer": "ipython3",
   "version": "3.12.6"
  }
 },
 "nbformat": 4,
 "nbformat_minor": 2
}
