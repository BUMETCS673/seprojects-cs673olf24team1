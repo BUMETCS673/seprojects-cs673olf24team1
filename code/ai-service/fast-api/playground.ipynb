{
 "cells": [
  {
   "cell_type": "markdown",
   "metadata": {},
   "source": [
    "# BUAN Chatbot Playground\n",
    "##### Created by Poom\n",
    "##### Annotated by Tash\n"
   ]
  },
  {
   "cell_type": "code",
   "execution_count": 41,
   "metadata": {},
   "outputs": [],
   "source": [
    "from typing import List\n",
    "from os import environ as env\n",
    "from pydantic import BaseModel\n",
    "from fastapi import FastAPI, APIRouter, Request\n",
    "from langchain_core.output_parsers import StrOutputParser\n",
    "from langchain_openai import OpenAIEmbeddings, ChatOpenAI\n",
    "from langchain_chroma import Chroma\n",
    "from langchain_openai import ChatOpenAI\n",
    "from langchain_community.document_loaders import CSVLoader, JSONLoader\n",
    "from langchain_core.chat_history import BaseChatMessageHistory, InMemoryChatMessageHistory\n",
    "from langchain_core.prompts import ChatPromptTemplate, MessagesPlaceholder\n",
    "from langchain_core.runnables.history import RunnableWithMessageHistory\n",
    "from coursebuilder import recommend_courses\n",
    "from langchain.schema import AIMessage, HumanMessage"
   ]
  },
  {
   "cell_type": "markdown",
   "metadata": {},
   "source": [
    "### Initialize the prompt retriever\n",
    "\n",
    "The create_prompt_storage function is called to create a storage for prompts, which is then converted into a retriever that can be used to fetch prompts based on specific queries or requirements."
   ]
  },
  {
   "cell_type": "code",
   "execution_count": 78,
   "metadata": {},
   "outputs": [],
   "source": [
    "from vectorstore import create_prompt_storage\n",
    "\n",
    "prompt_retriever = create_prompt_storage().as_retriever()"
   ]
  },
  {
   "cell_type": "markdown",
   "metadata": {},
   "source": [
    "### Invoke the prompt retriever to fetch context based on a user query.\n",
    "\n",
    "The query here is asking about the English requirements, which the retriever will use to find and return relevant prompts or responses from the storage.\n"
   ]
  },
  {
   "cell_type": "code",
   "execution_count": 82,
   "metadata": {},
   "outputs": [
    {
     "data": {
      "text/plain": [
       "[Document(metadata={'timestamp': '2024-09-27T12:50:00Z', 'source': 'Boston University Metropolitan College Catalog', 'tags': ['TOEFL', 'IELTS', 'Duolingo', 'admissions', 'English proficiency']}, page_content='Prompt: What are the minimum English proficiency scores required for admission? Response: Minimum TOEFL scores are 22 in Writing, 23 in Speaking, 18 in Listening, and 21 in Reading. The minimum IELTS score is 6.5, and the minimum Duolingo English Test score is 110.'),\n",
       " Document(metadata={'timestamp': '2024-09-27T12:05:00Z', 'source': 'https://www.bu.edu/csmet/students/faq/', 'tags': ['admissions', 'TOEFL', 'IELTS']}, page_content='Prompt: Do I need to take the TOEFL or IELTS? Response: TOEFL or IELTS scores are required for non-native English speakers unless they graduated from an English-instruction institution. Minimum scores: TOEFL - Listening: 18, Reading: 21, Speaking: 23, Writing: 22; IELTS - 6.5 overall.'),\n",
       " Document(metadata={'timestamp': '2024-09-27T16:00:00Z', 'source': 'Boston University Metropolitan College', 'tags': ['TOEFL', 'IELTS', 'English proficiency']}, page_content=\"Prompt: Do I have to take the TOEFL or IELTS? Response: {'description': 'Scores from TOEFL or IELTS are required for non-native English speakers who did not graduate from an institution where English is the language of instruction.'}\"),\n",
       " Document(metadata={'timestamp': '2024-09-27T15:00:00Z', 'source': 'BU International Graduate Student Guide', 'tags': ['student permissions', 'documents', 'international students']}, page_content=\"Prompt: What documents are required for student permissions before coming to Boston University? Response: You need the following documents for student permissions: Application Form, TOEFL/IELTS transcript, Passport Identity Page, and Proof of deposit/property/proof of salary showing a balance of more than one year of tuition. These documents must be emailed to your College's Admission office.\")]"
      ]
     },
     "execution_count": 82,
     "metadata": {},
     "output_type": "execute_result"
    }
   ],
   "source": [
    "context = prompt_retriever.invoke(\"What are the English requirements?\")\n",
    "context"
   ]
  },
  {
   "cell_type": "code",
   "execution_count": null,
   "metadata": {},
   "outputs": [],
   "source": []
  }
 ],
 "metadata": {
  "kernelspec": {
   "display_name": "eagles",
   "language": "python",
   "name": "python3"
  },
  "language_info": {
   "codemirror_mode": {
    "name": "ipython",
    "version": 3
   },
   "file_extension": ".py",
   "mimetype": "text/x-python",
   "name": "python",
   "nbconvert_exporter": "python",
   "pygments_lexer": "ipython3",
   "version": "3.12.6"
  }
 },
 "nbformat": 4,
 "nbformat_minor": 2
}
